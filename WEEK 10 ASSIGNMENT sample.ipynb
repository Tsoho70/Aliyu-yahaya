{
 "cells": [
  {
   "cell_type": "markdown",
   "id": "9deb4496-0756-4fd7-b596-86a47b0b9f0a",
   "metadata": {},
   "source": [
    "### IMPORTING NECESSARY LIBRARIES"
   ]
  },
  {
   "cell_type": "code",
   "execution_count": 54,
   "id": "d5714df4-eb08-4e6b-b8da-ef1d5cf7e088",
   "metadata": {},
   "outputs": [],
   "source": [
    "import numpy as np\n",
    "import tensorflow as tf\n",
    "from tensorflow.keras.datasets import mnist\n",
    "from tensorflow. Keras.models import Sequential\n",
    "from tensorflow. keras.layers import Dense, Flatten\n",
    "from tensorflow. keras.utils import to_categorical"
   ]
  },
  {
   "cell_type": "markdown",
   "id": "817cfad4-c360-4fd7-a06b-958fc0e8c760",
   "metadata": {},
   "source": [
    "### LOADING AND PREPARING DATA"
   ]
  },
  {
   "cell_type": "code",
   "execution_count": 56,
   "id": "bbd50d4d-2c8d-49d1-a46d-9228713cbb50",
   "metadata": {},
   "outputs": [],
   "source": [
    "(x_train, y_train), (x_test, y_test) = mnist.load_data()\n",
    "x_train, x_test = x_train / 255.0, x_test / 255.0  # Normalize to [0, 1] range"
   ]
  },
  {
   "cell_type": "markdown",
   "id": "eaa3778b-5ae9-4ac5-a623-baa376bfef77",
   "metadata": {},
   "source": [
    "### ONE HOT ENCODE LABELS"
   ]
  },
  {
   "cell_type": "code",
   "execution_count": 58,
   "id": "0676b260-26a2-42dd-a0b2-d1edc82c2ed2",
   "metadata": {},
   "outputs": [],
   "source": [
    "y_train = to_categorical(y_train, 10)\n",
    "y_test = to_categorical(y_test, 10)"
   ]
  },
  {
   "cell_type": "markdown",
   "id": "b2aa7ee9-d6e1-403e-82c7-d230a175813b",
   "metadata": {},
   "source": [
    "### DEFINING A BASIC NEUTRAL NETWORK MODEL"
   ]
  },
  {
   "cell_type": "code",
   "execution_count": 60,
   "id": "671635ea-1033-4837-90f9-b3f4bd28c540",
   "metadata": {},
   "outputs": [],
   "source": [
    "model = Sequential([\n",
    "    Flatten(input_shape=(28, 28)),      \n",
    "    Dense(128, activation='relu'),      \n",
    "    Dense(64, activation='relu'),      \n",
    "    Dense(10, activation='softmax')\n",
    "])"
   ]
  },
  {
   "cell_type": "markdown",
   "id": "5faf0b27-a2d9-48e4-918a-a9fe44c879c8",
   "metadata": {},
   "source": [
    "### COMPILE MODEL"
   ]
  },
  {
   "cell_type": "code",
   "execution_count": 62,
   "id": "5b071736-04d3-4049-9443-1502e3ab2096",
   "metadata": {},
   "outputs": [],
   "source": [
    "model.compile(optimizer='adam',\n",
    "              loss='categorical_crossentropy',\n",
    "              metrics=['accuracy'])"
   ]
  },
  {
   "cell_type": "markdown",
   "id": "d87ca2f4-fb33-44a2-9b67-d33a690cf819",
   "metadata": {},
   "source": [
    "### TRAINING THE MODEL"
   ]
  },
  {
   "cell_type": "code",
   "execution_count": 64,
   "id": "d653a838-cd6c-4e00-bc4a-980cf05e09ba",
   "metadata": {},
   "outputs": [
    {
     "name": "stdout",
     "output_type": "stream",
     "text": [
      "Epoch 1/5\n",
      "\u001b[1m1500/1500\u001b[0m \u001b[32m━━━━━━━━━━━━━━━━━━━━\u001b[0m\u001b[37m\u001b[0m \u001b[1m7s\u001b[0m 3ms/step - accuracy: 0.8655 - loss: 0.4679 - val_accuracy: 0.9592 - val_loss: 0.1393\n",
      "Epoch 2/5\n",
      "\u001b[1m1500/1500\u001b[0m \u001b[32m━━━━━━━━━━━━━━━━━━━━\u001b[0m\u001b[37m\u001b[0m \u001b[1m5s\u001b[0m 3ms/step - accuracy: 0.9648 - loss: 0.1171 - val_accuracy: 0.9684 - val_loss: 0.1069\n",
      "Epoch 3/5\n",
      "\u001b[1m1500/1500\u001b[0m \u001b[32m━━━━━━━━━━━━━━━━━━━━\u001b[0m\u001b[37m\u001b[0m \u001b[1m4s\u001b[0m 3ms/step - accuracy: 0.9778 - loss: 0.0715 - val_accuracy: 0.9708 - val_loss: 0.1030\n",
      "Epoch 4/5\n",
      "\u001b[1m1500/1500\u001b[0m \u001b[32m━━━━━━━━━━━━━━━━━━━━\u001b[0m\u001b[37m\u001b[0m \u001b[1m5s\u001b[0m 3ms/step - accuracy: 0.9842 - loss: 0.0531 - val_accuracy: 0.9726 - val_loss: 0.0957\n",
      "Epoch 5/5\n",
      "\u001b[1m1500/1500\u001b[0m \u001b[32m━━━━━━━━━━━━━━━━━━━━\u001b[0m\u001b[37m\u001b[0m \u001b[1m5s\u001b[0m 3ms/step - accuracy: 0.9870 - loss: 0.0397 - val_accuracy: 0.9721 - val_loss: 0.0952\n"
     ]
    }
   ],
   "source": [
    "history = model.fit(x_train, y_train, epochs=5, batch_size=32, validation_split=0.2, verbose=1)"
   ]
  },
  {
   "cell_type": "markdown",
   "id": "e486e592-d184-4dd5-b8d3-8d8d4a63cb86",
   "metadata": {},
   "source": [
    "### EVALUATE MODEL"
   ]
  },
  {
   "cell_type": "code",
   "execution_count": 66,
   "id": "0139bc67-0f3e-4ca6-901c-e040cde2a035",
   "metadata": {},
   "outputs": [
    {
     "name": "stdout",
     "output_type": "stream",
     "text": [
      "Test loss: 0.09146318584680557, Test accuracy: 0.972100019454956\n"
     ]
    }
   ],
   "source": [
    "test_loss, test_accuracy = model.evaluate(x_test, y_test, verbose=0)\n",
    "print(f\"Test loss: {test_loss}, Test accuracy: {test_accuracy}\")"
   ]
  },
  {
   "cell_type": "markdown",
   "id": "affbe70f-9f6e-4a08-91e6-e8d9a378432b",
   "metadata": {},
   "source": [
    "### SAVING MODEL"
   ]
  },
  {
   "cell_type": "code",
   "execution_count": 70,
   "id": "3d024be6-32d2-42bd-8d3d-e15e8ffe0a6a",
   "metadata": {},
   "outputs": [],
   "source": [
    "import joblib"
   ]
  },
  {
   "cell_type": "code",
   "execution_count": 75,
   "id": "1f7abdaf-35e0-4b9f-9b14-9145dbceddc2",
   "metadata": {},
   "outputs": [
    {
     "data": {
      "text/plain": [
       "['week10.pk1']"
      ]
     },
     "execution_count": 75,
     "metadata": {},
     "output_type": "execute_result"
    }
   ],
   "source": [
    "joblib.dump(model, 'week10.pk1')"
   ]
  },
  {
   "cell_type": "code",
   "execution_count": null,
   "id": "88ae802d-645b-4aa5-94c5-7abba243a6d8",
   "metadata": {},
   "outputs": [],
   "source": []
  }
 ],
 "metadata": {
  "kernelspec": {
   "display_name": "Python 3 (ipykernel)",
   "language": "python",
   "name": "python3"
  },
  "language_info": {
   "codemirror_mode": {
    "name": "ipython",
    "version": 3
   },
   "file_extension": ".py",
   "mimetype": "text/x-python",
   "name": "python",
   "nbconvert_exporter": "python",
   "pygments_lexer": "ipython3",
   "version": "3.12.4"
  }
 },
 "nbformat": 4,
 "nbformat_minor": 5
}
